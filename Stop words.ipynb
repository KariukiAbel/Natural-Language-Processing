{
 "cells": [
  {
   "cell_type": "code",
   "execution_count": 1,
   "metadata": {},
   "outputs": [],
   "source": [
    "import spacy"
   ]
  },
  {
   "cell_type": "code",
   "execution_count": 2,
   "metadata": {},
   "outputs": [],
   "source": [
    "nlp = spacy.load('en_core_web_sm')"
   ]
  },
  {
   "cell_type": "code",
   "execution_count": 3,
   "metadata": {},
   "outputs": [
    {
     "name": "stdout",
     "output_type": "stream",
     "text": [
      "{'made', 'done', 'who', 'latter', 'less', 'bottom', 'almost', 'twelve', 'even', 'everywhere', 'my', 'him', 'same', 'some', 'take', 'and', 'for', 'until', 'upon', 'enough', 'one', 'another', 'do', 'fifteen', 'must', 'fifty', 'namely', 'five', 'seemed', 'ten', 'three', 'am', 'per', 'once', 'too', 'eleven', 'also', 'thus', 'hereupon', 'each', 'without', 'off', 'other', 'about', 'sometimes', 'became', 'really', 'ca', 'up', 'her', 'yourselves', 'many', 'together', 'everyone', 'yourself', 'yours', 'still', 'have', 'throughout', 'give', 'here', 'nothing', 'we', 'four', 'nobody', 'much', 'these', 'across', 'top', 'since', 'ours', 'its', 'be', 'herself', 'whereupon', 'becomes', 'always', 'nevertheless', 'put', 'they', 'whatever', 'anything', 'me', 'someone', 'just', 'of', 'seems', 'anyhow', 'their', 'very', 'elsewhere', 'anyway', 'themselves', 'to', 'above', 'which', 'hereafter', 'something', 'down', 'this', 'alone', 'first', 'was', 'whom', 'except', 'towards', 'any', 'nine', 'make', 'all', 'name', 'therein', 'himself', 'latterly', 'wherever', 'although', 'last', 'amongst', 'an', 'yet', 'mostly', 'neither', 'both', 'anywhere', 'cannot', 'itself', 'may', 'on', 'behind', 'back', 'please', 'now', 'there', 'therefore', 'unless', 'part', 'i', 'she', 'around', 'beyond', 'noone', 'becoming', 'under', 'your', 'afterwards', 'indeed', 'often', 'during', 'in', 'moreover', 'whole', 'third', 'did', 'former', 'onto', 'but', 'such', 'them', 'within', 'among', 'no', 'others', 'serious', 'along', 'using', 'whereby', 'hers', 'due', 'hence', 'whose', 'beside', 'herein', 'thence', 'go', 'though', 'had', 'through', 'never', 'whither', 'by', 'does', 'could', 'already', 'seem', 'then', 'everything', 'quite', 'via', 'before', 'whoever', 'nor', 'is', 'that', 'two', 'only', 'our', 'should', 'been', 'than', 'wherein', 'full', 'thru', 'us', 'sometime', 'every', 'front', 'eight', 'somehow', 'anyone', 'regarding', 'has', 'where', 'were', 'used', 'least', 'below', 'become', 'a', 'can', 'well', 'would', 'those', 'beforehand', 'how', 'next', 'the', 'thereafter', 'so', 'thereupon', 'what', 'whence', 'whether', 'not', 'none', 'formerly', 'various', 'being', 'because', 'further', 'doing', 'might', 'out', 'are', 'empty', 'perhaps', 'ourselves', 'with', 'somewhere', 'either', 'rather', 'seeming', 'whereafter', 'whenever', 'it', 'ever', 'nowhere', 'myself', 'between', 're', 'say', 'besides', 'most', 'toward', 'twenty', 'after', 'hundred', 'get', 'few', 'if', 'move', 'meanwhile', 'own', 'his', 'see', 'several', 'thereby', 'forty', 'whereas', 'keep', 'while', 'or', 'against', 'as', 'however', 'over', 'call', 'hereby', 'show', 'he', 'more', 'when', 'why', 'into', 'you', 'six', 'side', 'will', 'again', 'amount', 'at', 'sixty', 'else', 'otherwise', 'from', 'mine'}\n"
     ]
    }
   ],
   "source": [
    "print(nlp.Defaults.stop_words)"
   ]
  },
  {
   "cell_type": "code",
   "execution_count": 4,
   "metadata": {},
   "outputs": [
    {
     "data": {
      "text/plain": [
       "305"
      ]
     },
     "execution_count": 4,
     "metadata": {},
     "output_type": "execute_result"
    }
   ],
   "source": [
    "len(nlp.Defaults.stop_words)"
   ]
  },
  {
   "cell_type": "code",
   "execution_count": 5,
   "metadata": {},
   "outputs": [
    {
     "data": {
      "text/plain": [
       "<spacy.lexeme.Lexeme at 0x7f5f0900b048>"
      ]
     },
     "execution_count": 5,
     "metadata": {},
     "output_type": "execute_result"
    }
   ],
   "source": [
    "#checking whether a word is a stop word\n",
    "nlp.vocab['is']"
   ]
  },
  {
   "cell_type": "code",
   "execution_count": 6,
   "metadata": {},
   "outputs": [
    {
     "data": {
      "text/plain": [
       "True"
      ]
     },
     "execution_count": 6,
     "metadata": {},
     "output_type": "execute_result"
    }
   ],
   "source": [
    "nlp.vocab['is'].is_stop"
   ]
  },
  {
   "cell_type": "code",
   "execution_count": 8,
   "metadata": {},
   "outputs": [
    {
     "data": {
      "text/plain": [
       "False"
      ]
     },
     "execution_count": 8,
     "metadata": {},
     "output_type": "execute_result"
    }
   ],
   "source": [
    "nlp.vocab['mystery'].is_stop"
   ]
  },
  {
   "cell_type": "code",
   "execution_count": 9,
   "metadata": {},
   "outputs": [],
   "source": [
    "#adding a stop word to the set\n",
    "nlp.Defaults.stop_words.add(\"btw\")"
   ]
  },
  {
   "cell_type": "code",
   "execution_count": 11,
   "metadata": {},
   "outputs": [],
   "source": [
    "nlp.vocab['btw'].is_stop = True"
   ]
  },
  {
   "cell_type": "code",
   "execution_count": 12,
   "metadata": {},
   "outputs": [
    {
     "data": {
      "text/plain": [
       "306"
      ]
     },
     "execution_count": 12,
     "metadata": {},
     "output_type": "execute_result"
    }
   ],
   "source": [
    "len(nlp.Defaults.stop_words)"
   ]
  },
  {
   "cell_type": "code",
   "execution_count": 13,
   "metadata": {},
   "outputs": [
    {
     "data": {
      "text/plain": [
       "True"
      ]
     },
     "execution_count": 13,
     "metadata": {},
     "output_type": "execute_result"
    }
   ],
   "source": [
    "nlp.vocab['btw'].is_stop"
   ]
  },
  {
   "cell_type": "code",
   "execution_count": 14,
   "metadata": {},
   "outputs": [],
   "source": [
    "#removing a stop word to the set\n",
    "nlp.Defaults.stop_words.remove('btw')"
   ]
  },
  {
   "cell_type": "code",
   "execution_count": 15,
   "metadata": {},
   "outputs": [
    {
     "data": {
      "text/plain": [
       "True"
      ]
     },
     "execution_count": 15,
     "metadata": {},
     "output_type": "execute_result"
    }
   ],
   "source": [
    "nlp.vocab['btw'].is_stop"
   ]
  },
  {
   "cell_type": "code",
   "execution_count": 16,
   "metadata": {},
   "outputs": [],
   "source": [
    "nlp.vocab['btw'].is_stop = False"
   ]
  },
  {
   "cell_type": "code",
   "execution_count": null,
   "metadata": {},
   "outputs": [],
   "source": []
  }
 ],
 "metadata": {
  "kernelspec": {
   "display_name": "Python 3",
   "language": "python",
   "name": "python3"
  },
  "language_info": {
   "codemirror_mode": {
    "name": "ipython",
    "version": 3
   },
   "file_extension": ".py",
   "mimetype": "text/x-python",
   "name": "python",
   "nbconvert_exporter": "python",
   "pygments_lexer": "ipython3",
   "version": "3.7.3"
  }
 },
 "nbformat": 4,
 "nbformat_minor": 2
}
