{
 "cells": [
  {
   "cell_type": "code",
   "execution_count": 18,
   "metadata": {},
   "outputs": [
    {
     "name": "stdout",
     "output_type": "stream",
     "text": [
      "Requirement already satisfied: PyPDF2 in /home/nabesh/anaconda3/envs/nlp_course/lib/python3.7/site-packages (1.26.0)\r\n"
     ]
    }
   ],
   "source": [
    "import PyPDF2\n",
    "import sys\n",
    "!{sys.executable} -m pip install PyPDF2\n",
    "# python -m pip install PyPDF2\n",
    "# !{sys.executable} -m pip install numpy"
   ]
  },
  {
   "cell_type": "code",
   "execution_count": 19,
   "metadata": {},
   "outputs": [],
   "source": [
    "my_file = open('Getting Things Done (book).pdf', mode= 'rb')"
   ]
  },
  {
   "cell_type": "code",
   "execution_count": 20,
   "metadata": {},
   "outputs": [],
   "source": [
    "pdf_reader = PyPDF2.PdfFileReader(my_file)"
   ]
  },
  {
   "cell_type": "code",
   "execution_count": 21,
   "metadata": {},
   "outputs": [
    {
     "data": {
      "text/plain": [
       "278"
      ]
     },
     "execution_count": 21,
     "metadata": {},
     "output_type": "execute_result"
    }
   ],
   "source": [
    "pdf_reader.numPages"
   ]
  },
  {
   "cell_type": "code",
   "execution_count": 22,
   "metadata": {},
   "outputs": [],
   "source": [
    "page_one = pdf_reader.getPage(0)"
   ]
  },
  {
   "cell_type": "code",
   "execution_count": 23,
   "metadata": {},
   "outputs": [
    {
     "data": {
      "text/plain": [
       "'Getting\\nThings\\nDoneThe Art of\\nStress-Free Productivity\\nDavid Allen\\n'"
      ]
     },
     "execution_count": 23,
     "metadata": {},
     "output_type": "execute_result"
    }
   ],
   "source": [
    "page_one.extractText()"
   ]
  },
  {
   "cell_type": "code",
   "execution_count": 24,
   "metadata": {},
   "outputs": [],
   "source": [
    "page_one = pdf_reader.getPage(15)"
   ]
  },
  {
   "cell_type": "code",
   "execution_count": 26,
   "metadata": {},
   "outputs": [
    {
     "name": "stdout",
     "output_type": "stream",
     "text": [
      "A New Practice for a New Reality\n",
      "IT'S POSSIBLE FOR a person to have an overwhelming \n",
      "number of\n",
      "things to do and still function productively with a\n",
      " clear head and a\n",
      "positive sense of relaxed control. That's a great w\n",
      "ay to live and\n",
      "work, at elevated levels of effectiveness and effic\n",
      "iency. It's also\n",
      "becoming a critical operational style required of s\n",
      "uccessful and\n",
      "high-performing professionals. You already know how\n",
      " to do\n",
      "everything necessary to achieve this high-performan\n",
      "ce state. If\n",
      "you're like most people, however, you need to apply\n",
      " these skills in\n",
      "a more timely, complete, and systematic way so you \n",
      "can get on top\n",
      "of it all instead of feeling buried. And though the\n",
      "method and the techniques I describe in this book\n",
      "are immensely practical and based on common sense,\n",
      "most people will have some major work habits that\n",
      "must be modified before they can implement this\n",
      "system. The small changes requiredÑchanges in the\n",
      "way you clarify and organize all the things that co\n",
      "m-mand your attentionÑcould represent a significant\n",
      "shift in how you approach some key aspects of your \n",
      "day-to-day\n",
      "work. Many of my clients have referred to this as a\n",
      " significant\n",
      "paradigm shift.\n",
      "The methods I present here are all based on two key\n",
      " objec-\n",
      "tives:(1) capturing \n",
      "all the \n",
      "things that need to get doneÑnow, later,\n",
      "someday, big, little, or in betweenÑinto a logical \n",
      "and trusted sys-\n",
      "tem outside of your head and off your mind; and (2)\n",
      " disciplining\n",
      "yourself to make front-end decisions about all of m\n",
      "e \"inputs\" you\n",
      "3Anxiety is caused\n",
      "by a lack of control,\n",
      "organization,\n",
      "preparation, and\n",
      "action.\n",
      ".  ÑDavid\n",
      "\n"
     ]
    }
   ],
   "source": [
    "print(page_one.extractText())"
   ]
  },
  {
   "cell_type": "code",
   "execution_count": 27,
   "metadata": {},
   "outputs": [],
   "source": [
    "my_file.close()"
   ]
  },
  {
   "cell_type": "code",
   "execution_count": 28,
   "metadata": {},
   "outputs": [],
   "source": [
    "f = open('Getting Things Done (book).pdf', 'rb')"
   ]
  },
  {
   "cell_type": "code",
   "execution_count": 29,
   "metadata": {},
   "outputs": [],
   "source": [
    "pdf_reader = PyPDF2.PdfFileReader(f)"
   ]
  },
  {
   "cell_type": "code",
   "execution_count": 30,
   "metadata": {},
   "outputs": [],
   "source": [
    "first_page = pdf_reader.getPage(10)"
   ]
  },
  {
   "cell_type": "code",
   "execution_count": 31,
   "metadata": {},
   "outputs": [],
   "source": [
    "pdf_writer = PyPDF2.PdfFileWriter()"
   ]
  },
  {
   "cell_type": "code",
   "execution_count": 32,
   "metadata": {},
   "outputs": [],
   "source": [
    "pdf_writer.addPage(first_page)"
   ]
  },
  {
   "cell_type": "code",
   "execution_count": 33,
   "metadata": {},
   "outputs": [],
   "source": [
    "pdf_output = open(\"My new pdf file.pdf\", \"wb\")"
   ]
  },
  {
   "cell_type": "code",
   "execution_count": 34,
   "metadata": {},
   "outputs": [],
   "source": [
    "pdf_writer.write(pdf_output)"
   ]
  },
  {
   "cell_type": "code",
   "execution_count": 35,
   "metadata": {},
   "outputs": [],
   "source": [
    "pdf_output.close()"
   ]
  },
  {
   "cell_type": "code",
   "execution_count": 36,
   "metadata": {},
   "outputs": [],
   "source": [
    "f.close()"
   ]
  },
  {
   "cell_type": "code",
   "execution_count": null,
   "metadata": {},
   "outputs": [],
   "source": []
  },
  {
   "cell_type": "code",
   "execution_count": null,
   "metadata": {},
   "outputs": [],
   "source": []
  },
  {
   "cell_type": "code",
   "execution_count": 37,
   "metadata": {},
   "outputs": [],
   "source": [
    "brand_new = open('My new pdf file.pdf', 'rb')"
   ]
  },
  {
   "cell_type": "code",
   "execution_count": 38,
   "metadata": {},
   "outputs": [],
   "source": [
    "pdf_reader = PyPDF2.PdfFileReader(brand_new)"
   ]
  },
  {
   "cell_type": "code",
   "execution_count": 40,
   "metadata": {},
   "outputs": [
    {
     "data": {
      "text/plain": [
       "1"
      ]
     },
     "execution_count": 40,
     "metadata": {},
     "output_type": "execute_result"
    }
   ],
   "source": [
    "pdf_reader.numPages"
   ]
  },
  {
   "cell_type": "code",
   "execution_count": null,
   "metadata": {},
   "outputs": [],
   "source": []
  }
 ],
 "metadata": {
  "kernelspec": {
   "display_name": "Python 3",
   "language": "python",
   "name": "python3"
  },
  "language_info": {
   "codemirror_mode": {
    "name": "ipython",
    "version": 3
   },
   "file_extension": ".py",
   "mimetype": "text/x-python",
   "name": "python",
   "nbconvert_exporter": "python",
   "pygments_lexer": "ipython3",
   "version": "3.7.3"
  }
 },
 "nbformat": 4,
 "nbformat_minor": 2
}
